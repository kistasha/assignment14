{
 "cells": [
  {
   "cell_type": "code",
   "execution_count": 6,
   "id": "dea48fa9-92b2-47e5-bb12-32eb1d10e69e",
   "metadata": {
    "tags": []
   },
   "outputs": [],
   "source": [
    "def digit_sum(n):\n",
    "    if n==0:\n",
    "        return 0\n",
    "    else:\n",
    "        last = n%10\n",
    "        remaining = n//10\n",
    "        remaining_sum = digit_sum(remaining)\n",
    "        return last + remaining_sum"
   ]
  },
  {
   "cell_type": "code",
   "execution_count": 7,
   "id": "a8fe2a5a-5449-4219-896a-9a0d09c2eafd",
   "metadata": {
    "tags": []
   },
   "outputs": [
    {
     "name": "stdout",
     "output_type": "stream",
     "text": [
      "17\n"
     ]
    }
   ],
   "source": [
    "print(digit_sum(8342))"
   ]
  },
  {
   "cell_type": "code",
   "execution_count": 8,
   "id": "446c4ab1-817d-4b7f-9676-871788702ced",
   "metadata": {},
   "outputs": [],
   "source": [
    "def sum_of_all(n):\n",
    "    if n==0:\n",
    "        return 0\n",
    "    else: \n",
    "        previous = n-1\n",
    "        return n + sum_of_all(previous)"
   ]
  },
  {
   "cell_type": "code",
   "execution_count": 9,
   "id": "b2ba352b-08a9-42bd-84d4-eedd4428ab47",
   "metadata": {
    "tags": []
   },
   "outputs": [
    {
     "name": "stdout",
     "output_type": "stream",
     "text": [
      "55\n"
     ]
    }
   ],
   "source": [
    "print(sum_of_all(10))"
   ]
  },
  {
   "cell_type": "code",
   "execution_count": 10,
   "id": "fa71c07f-9701-479f-8d9c-80abb48c83f4",
   "metadata": {
    "tags": []
   },
   "outputs": [],
   "source": [
    "def fibonacci(n):\n",
    "    if n==0:\n",
    "        return 0\n",
    "    elif n==1:\n",
    "        return 1\n",
    "    else:\n",
    "        return fibonacci(n-1) + fibonacci(n-2)"
   ]
  },
  {
   "cell_type": "code",
   "execution_count": 14,
   "id": "99f9777f-faf6-48b9-95d9-e8d9844e78d0",
   "metadata": {
    "tags": []
   },
   "outputs": [
    {
     "name": "stdout",
     "output_type": "stream",
     "text": [
      "0\n"
     ]
    }
   ],
   "source": [
    "print(fibonacci(0))"
   ]
  },
  {
   "cell_type": "code",
   "execution_count": null,
   "id": "9b49249e-c623-453d-81be-77d7a02aec22",
   "metadata": {},
   "outputs": [],
   "source": []
  }
 ],
 "metadata": {
  "kernelspec": {
   "display_name": "Python 3 (ipykernel)",
   "language": "python",
   "name": "python3"
  },
  "language_info": {
   "codemirror_mode": {
    "name": "ipython",
    "version": 3
   },
   "file_extension": ".py",
   "mimetype": "text/x-python",
   "name": "python",
   "nbconvert_exporter": "python",
   "pygments_lexer": "ipython3",
   "version": "3.10.8"
  }
 },
 "nbformat": 4,
 "nbformat_minor": 5
}
